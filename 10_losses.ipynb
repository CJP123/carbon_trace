{
 "cells": [
  {
   "cell_type": "code",
   "execution_count": null,
   "metadata": {},
   "outputs": [],
   "source": [
    "#| default_exp trace"
   ]
  },
  {
   "cell_type": "markdown",
   "metadata": {},
   "source": [
    "# Carbon Trace\n",
    "\n",
    "> API details."
   ]
  },
  {
   "cell_type": "code",
   "execution_count": null,
   "metadata": {},
   "outputs": [],
   "source": [
    "#|export\n",
    "from fastcore.utils import *\n",
    "from carbontrace.network import *\n",
    "import networkx as nx\n",
    "from numpy.linalg import inv\n",
    "from numpy.linalg import matrix_power\n",
    "import pandas as pd\n",
    "import matplotlib.pyplot as plt\n",
    "import numpy as np\n",
    "from continuous_cmap.cmap import *\n",
    "hex_list = ['#2AA364', '#F5EB4D', '#9E4229', '#381D02', '#381D02', '#381D02']\n",
    "float_list=[0, 0.15, .6,.75,.8,1]\n",
    "cmap_1000 = get_continuous_cmap(hex_list = hex_list, float_list = float_list)"
   ]
  },
  {
   "cell_type": "markdown",
   "metadata": {},
   "source": [
    "## Model with system losses"
   ]
  },
  {
   "cell_type": "markdown",
   "metadata": {},
   "source": [
    "Build a similar version of the Bialek sample network. This network has a operational emission rate and a node can have multiple feeder generation technologies. "
   ]
  },
  {
   "cell_type": "code",
   "execution_count": null,
   "metadata": {},
   "outputs": [
    {
     "data": {
      "text/html": [
       "<div>\n",
       "<style scoped>\n",
       "    .dataframe tbody tr th:only-of-type {\n",
       "        vertical-align: middle;\n",
       "    }\n",
       "\n",
       "    .dataframe tbody tr th {\n",
       "        vertical-align: top;\n",
       "    }\n",
       "\n",
       "    .dataframe thead th {\n",
       "        text-align: right;\n",
       "    }\n",
       "</style>\n",
       "<table border=\"1\" class=\"dataframe\">\n",
       "  <thead>\n",
       "    <tr style=\"text-align: right;\">\n",
       "      <th></th>\n",
       "      <th>ID_ST</th>\n",
       "      <th>LOAD</th>\n",
       "      <th>GENERATION</th>\n",
       "      <th>OER</th>\n",
       "    </tr>\n",
       "  </thead>\n",
       "  <tbody>\n",
       "    <tr>\n",
       "      <th>0</th>\n",
       "      <td>I_HYDRO</td>\n",
       "      <td>0</td>\n",
       "      <td>10</td>\n",
       "      <td>0.0</td>\n",
       "    </tr>\n",
       "    <tr>\n",
       "      <th>1</th>\n",
       "      <td>I_GEO</td>\n",
       "      <td>0</td>\n",
       "      <td>10</td>\n",
       "      <td>0.1</td>\n",
       "    </tr>\n",
       "    <tr>\n",
       "      <th>2</th>\n",
       "      <td>I</td>\n",
       "      <td>10</td>\n",
       "      <td>0</td>\n",
       "      <td>0.0</td>\n",
       "    </tr>\n",
       "    <tr>\n",
       "      <th>3</th>\n",
       "      <td>II</td>\n",
       "      <td>0</td>\n",
       "      <td>45</td>\n",
       "      <td>1.0</td>\n",
       "    </tr>\n",
       "    <tr>\n",
       "      <th>4</th>\n",
       "      <td>III</td>\n",
       "      <td>10</td>\n",
       "      <td>0</td>\n",
       "      <td>0.0</td>\n",
       "    </tr>\n",
       "    <tr>\n",
       "      <th>5</th>\n",
       "      <td>IV</td>\n",
       "      <td>15</td>\n",
       "      <td>10</td>\n",
       "      <td>0.3</td>\n",
       "    </tr>\n",
       "    <tr>\n",
       "      <th>6</th>\n",
       "      <td>V</td>\n",
       "      <td>20</td>\n",
       "      <td>0</td>\n",
       "      <td>0.0</td>\n",
       "    </tr>\n",
       "    <tr>\n",
       "      <th>7</th>\n",
       "      <td>VI</td>\n",
       "      <td>20</td>\n",
       "      <td>0</td>\n",
       "      <td>0.0</td>\n",
       "    </tr>\n",
       "  </tbody>\n",
       "</table>\n",
       "</div>"
      ],
      "text/plain": [
       "     ID_ST  LOAD  GENERATION  OER\n",
       "0  I_HYDRO     0          10  0.0\n",
       "1    I_GEO     0          10  0.1\n",
       "2        I    10           0  0.0\n",
       "3       II     0          45  1.0\n",
       "4      III    10           0  0.0\n",
       "5       IV    15          10  0.3\n",
       "6        V    20           0  0.0\n",
       "7       VI    20           0  0.0"
      ]
     },
     "execution_count": null,
     "metadata": {},
     "output_type": "execute_result"
    }
   ],
   "source": [
    "bus = pd.read_csv('data/bus.csv')\n",
    "bus"
   ]
  },
  {
   "cell_type": "code",
   "execution_count": null,
   "metadata": {},
   "outputs": [
    {
     "data": {
      "text/html": [
       "<div>\n",
       "<style scoped>\n",
       "    .dataframe tbody tr th:only-of-type {\n",
       "        vertical-align: middle;\n",
       "    }\n",
       "\n",
       "    .dataframe tbody tr th {\n",
       "        vertical-align: top;\n",
       "    }\n",
       "\n",
       "    .dataframe thead th {\n",
       "        text-align: right;\n",
       "    }\n",
       "</style>\n",
       "<table border=\"1\" class=\"dataframe\">\n",
       "  <thead>\n",
       "    <tr style=\"text-align: right;\">\n",
       "      <th></th>\n",
       "      <th>FROM_STATION</th>\n",
       "      <th>TO_STATION</th>\n",
       "      <th>FROM_MW</th>\n",
       "      <th>TO_MW</th>\n",
       "    </tr>\n",
       "  </thead>\n",
       "  <tbody>\n",
       "    <tr>\n",
       "      <th>0</th>\n",
       "      <td>I_HYDRO</td>\n",
       "      <td>I</td>\n",
       "      <td>10</td>\n",
       "      <td>10</td>\n",
       "    </tr>\n",
       "    <tr>\n",
       "      <th>1</th>\n",
       "      <td>I_GEO</td>\n",
       "      <td>I</td>\n",
       "      <td>10</td>\n",
       "      <td>10</td>\n",
       "    </tr>\n",
       "    <tr>\n",
       "      <th>2</th>\n",
       "      <td>I</td>\n",
       "      <td>II</td>\n",
       "      <td>10</td>\n",
       "      <td>10</td>\n",
       "    </tr>\n",
       "    <tr>\n",
       "      <th>3</th>\n",
       "      <td>II</td>\n",
       "      <td>III</td>\n",
       "      <td>25</td>\n",
       "      <td>25</td>\n",
       "    </tr>\n",
       "    <tr>\n",
       "      <th>4</th>\n",
       "      <td>II</td>\n",
       "      <td>IV</td>\n",
       "      <td>15</td>\n",
       "      <td>15</td>\n",
       "    </tr>\n",
       "    <tr>\n",
       "      <th>5</th>\n",
       "      <td>III</td>\n",
       "      <td>IV</td>\n",
       "      <td>5</td>\n",
       "      <td>5</td>\n",
       "    </tr>\n",
       "    <tr>\n",
       "      <th>6</th>\n",
       "      <td>IV</td>\n",
       "      <td>V</td>\n",
       "      <td>15</td>\n",
       "      <td>15</td>\n",
       "    </tr>\n",
       "    <tr>\n",
       "      <th>7</th>\n",
       "      <td>V</td>\n",
       "      <td>VI</td>\n",
       "      <td>5</td>\n",
       "      <td>5</td>\n",
       "    </tr>\n",
       "    <tr>\n",
       "      <th>8</th>\n",
       "      <td>II</td>\n",
       "      <td>VI</td>\n",
       "      <td>15</td>\n",
       "      <td>15</td>\n",
       "    </tr>\n",
       "    <tr>\n",
       "      <th>9</th>\n",
       "      <td>III</td>\n",
       "      <td>V</td>\n",
       "      <td>10</td>\n",
       "      <td>10</td>\n",
       "    </tr>\n",
       "  </tbody>\n",
       "</table>\n",
       "</div>"
      ],
      "text/plain": [
       "  FROM_STATION TO_STATION  FROM_MW  TO_MW\n",
       "0      I_HYDRO          I       10     10\n",
       "1        I_GEO          I       10     10\n",
       "2            I         II       10     10\n",
       "3           II        III       25     25\n",
       "4           II         IV       15     15\n",
       "5          III         IV        5      5\n",
       "6           IV          V       15     15\n",
       "7            V         VI        5      5\n",
       "8           II         VI       15     15\n",
       "9          III          V       10     10"
      ]
     },
     "execution_count": null,
     "metadata": {},
     "output_type": "execute_result"
    }
   ],
   "source": [
    "branch = pd.read_csv('data/branch.csv')\n",
    "branch"
   ]
  },
  {
   "cell_type": "markdown",
   "metadata": {},
   "source": [
    "## Scale up base generation"
   ]
  },
  {
   "cell_type": "markdown",
   "metadata": {},
   "source": [
    "Using a directed networkx graph to represent the network."
   ]
  },
  {
   "cell_type": "code",
   "execution_count": null,
   "metadata": {},
   "outputs": [],
   "source": [
    "trace = Trace()\n",
    "trace._network(bus, branch)"
   ]
  },
  {
   "cell_type": "code",
   "execution_count": null,
   "metadata": {},
   "outputs": [],
   "source": [
    "#| export\n",
    "@patch\n",
    "def plot2(self:Trace, plot_nodes = None, oer=None ):\n",
    "        self.fuel = {'I_HYDRO':'Hydro',\n",
    "        'I_GEO':'Geothermal',\n",
    "        'II':'Coal',\n",
    "        'IV':'Geothermal'}\n",
    "        pos = {'I':(0,0),\n",
    "                    'II':(.5,0),\n",
    "                    'III':(1,0),\n",
    "                    'IV':(1,-.5),\n",
    "                    'V':(1.5,0),\n",
    "                    'VI':(1.5,.5),\n",
    "                    'I_HYDRO':(-.35,0.35),\n",
    "                    'I_GEO':(-.35,-.35)}\n",
    "        \n",
    "        sub_net = self.network.subgraph(plot_nodes) if plot_nodes else self.network\n",
    "        fig = plt.figure(1, figsize=(20, 10), dpi=60)\n",
    "        # node_cols = [cmap_1000(self.get_oer(x)[0]) for x in sub_net.nodes]\n",
    "        # node_cols[1] = cmap_1000(.3)\n",
    "\n",
    "        options = {\n",
    "            \"font_size\": 20,\n",
    "            \"font_color\":'black',\n",
    "            \"node_size\": 5000,\n",
    "            \"node_color\": 'red',\n",
    "            # \"edge_cmap\": \"cm.magma\",\n",
    "            \"edgecolors\": 'black',\n",
    "            \"arrowstyle\":\"->\",\n",
    "            \"arrowsize\":20,\n",
    "            \"width\":5,\n",
    "            \"cmap\": cmap_1000\n",
    "        }\n",
    "\n",
    "        tmp = nx.draw_networkx(sub_net, pos, **options)\n",
    "\n",
    "        for x in sub_net.nodes:\n",
    "            #GENERATION\n",
    "            flip = 1\n",
    "            if self.network.nodes[x]['GENERATION_MW'] > 0:\n",
    "                plt.annotate(f'{round(self.network.nodes[x][\"GENERATION_MW\"],1)} MW', \n",
    "                                xy=(pos[x][0]-.06*np.sin(np.pi/4),\n",
    "                                    pos[x][1]-.06*np.cos(np.pi/4)), \n",
    "                                xytext=(pos[x][0]-.2*np.sin(np.pi/4),\n",
    "                                        pos[x][1]-.2*np.cos(np.pi/4)),\n",
    "                                    color='black',\n",
    "                                    fontsize=12,\n",
    "                                arrowprops=dict(arrowstyle=\"->\", \n",
    "                                                lw=4, \n",
    "                                                color=\"g\"))\n",
    "            #DEMAND\n",
    "            if self.network.nodes[x]['DEMAND_MW'] > 0:\n",
    "                plt.annotate(f'{round(self.network.nodes[x][\"DEMAND_MW\"],1)} MW', \n",
    "                            xy=(pos[x][0]+.06*np.sin(np.pi/4),\n",
    "                                pos[x][1]-.06*np.cos(np.pi/4)), \n",
    "                            xytext=(pos[x][0]+.2*np.sin(np.pi/4)-.05,\n",
    "                                    pos[x][1]-.2*np.cos(np.pi/4)),\n",
    "                            color='r',fontsize=12,\n",
    "                            arrowprops=dict(arrowstyle=\"<-\", \n",
    "                        lw=4, color=\"red\"))\n",
    "\n",
    "\n",
    "#       \n",
    "    \n",
    "        edge_labels = {}\n",
    "        for x in sub_net.edges:\n",
    "#             print(x,self.pos[x[0]],self.pos[x[1]],0.5*abs(self.pos[x[0]][0]+self.pos[x[1]][0]))\n",
    "            a = sub_net._adj[x[0]][x[1]][\"FROM_MW\"]\n",
    "            b = sub_net._adj[x[0]][x[1]][\"TO_MW\"]\n",
    "            c = ''+ str(a) + ' MW ' if a==b else ''+str(round(a,1))+' MW / '+str(round(b,1))+ ' MW '\n",
    "            edge_labels[x] = c\n",
    "#         cmap = mpl.cm.cool\n",
    "#         norm = mpl.colors.Normalize(vmin=5, vmax=10)\n",
    "#         ax = plt.gca()\n",
    "#         plt.colorbar(mpl.cm.ScalarMappable(norm=norm, cmap=cmap),\n",
    "#              cax=ax, orientation='horizontal', label='Some Units')\n",
    "\n",
    "        nx.draw_networkx_edge_labels(\n",
    "                sub_net, pos,\n",
    "                edge_labels=edge_labels,\n",
    "                font_color='black',\n",
    "                font_size =10\n",
    "            )\n",
    "        sm = plt.cm.ScalarMappable(cmap=cmap_1000)\n",
    "        sm.set_array([])\n",
    "        cbar = plt.colorbar(sm)\n",
    "        cbar.ax.get_yaxis().labelpad = 10\n",
    "        cbar.ax.set_ylabel('kgeCO2/kWh', rotation=270, fontsize=10)\n",
    "        cbar.ax.set_title('Operating\\n Emission Rate')\n",
    "        plt.axis(\"off\")\n",
    "        return plt"
   ]
  },
  {
   "cell_type": "code",
   "execution_count": null,
   "metadata": {},
   "outputs": [],
   "source": [
    "def imbalance(node):\n",
    "    return sum([trace.network.edges[x]['TO_MW'] for x in trace.network.in_edges(node)]) + trace.network.nodes[node]['GENERATION_MW'] - \\\n",
    "           sum([trace.network.edges[x]['FROM_MW'] for x in trace.network.out_edges(node)]) -trace.network.nodes[node]['DEMAND_MW']\n",
    "\n",
    "def apply_losses(loss = 0.08):\n",
    "    for node in ['VI', 'V', 'IV', 'III', 'II','I']:# go through the nodes backwards\n",
    "        trace.network.nodes[node]['GENERATION_MW'] =(1+loss) * trace.network.nodes[node]['GENERATION_MW'] # keep loads the same but increase generation by x%\n",
    "        shortfall = imbalance(node)\n",
    "        for edge in trace.network.in_edges(node):# each node needs to have line losses added to it in proportion to the existing mix\n",
    "            sum_in = sum([trace.network.edges[x]['TO_MW'] for x in trace.network.in_edges(node)])\n",
    "            trace.network.edges[edge]['TO_MW'] = trace.network.edges[edge]['TO_MW'] - shortfall*trace.network.edges[edge]['TO_MW']/sum_in\n",
    "            trace.network.edges[edge]['FROM_MW'] = trace.network.edges[edge]['TO_MW'] * (1+loss)\n",
    "\n",
    "        for node in ['I_GEO', 'I_HYDRO']: # make these edge generators match to balance network\n",
    "            trace.network.nodes[node]['GENERATION_MW'] = sum([trace.network.edges[x]['FROM_MW'] for x in trace.network.out_edges(node)])"
   ]
  },
  {
   "cell_type": "code",
   "execution_count": null,
   "metadata": {},
   "outputs": [
    {
     "name": "stderr",
     "output_type": "stream",
     "text": [
      "/tmp/ipykernel_6987/908031070.py:5: FutureWarning: Dropping of nuisance columns in DataFrame reductions (with 'numeric_only=None') is deprecated; in a future version this will raise TypeError.  Select only valid columns before calling the reduction.\n",
      "  df = trace.df.loc[trace.df.sum(axis=1)!=0,trace.df.sum(axis=0)!=0]\n"
     ]
    }
   ],
   "source": [
    "trace = Trace()\n",
    "trace._network(bus, branch)\n",
    "apply_losses()\n",
    "trace.process()\n",
    "df = trace.df.loc[trace.df.sum(axis=1)!=0,trace.df.sum(axis=0)!=0]\n",
    "# df = df.merge(bus.loc[:,['ID_ST','OER']], how='left', left_on='GENERATION', right_on='ID_ST').drop('ID_ST', axis=1)"
   ]
  },
  {
   "cell_type": "code",
   "execution_count": null,
   "metadata": {},
   "outputs": [
    {
     "data": {
      "text/plain": [
       "<module 'matplotlib.pyplot' from '/opt/python/3.10.4/lib/python3.10/site-packages/matplotlib/pyplot.py'>"
      ]
     },
     "execution_count": null,
     "metadata": {},
     "output_type": "execute_result"
    },
    {
     "data": {
      "image/png": "[encoded data removed]",
      "text/plain": [
       "<Figure size 1200x600 with 2 Axes>"
      ]
     },
     "metadata": {
      "needs_background": "light"
     },
     "output_type": "display_data"
    }
   ],
   "source": [
    "trace.plot2(oer = dict(bus.loc[:,['ID_ST','OER']].values))"
   ]
  },
  {
   "cell_type": "code",
   "execution_count": null,
   "metadata": {},
   "outputs": [
    {
     "data": {
      "text/plain": [
       "{'I_HYDRO': 0.0,\n",
       " 'I_GEO': 0.1,\n",
       " 'I': 0.0,\n",
       " 'II': 1.0,\n",
       " 'III': 0.0,\n",
       " 'IV': 0.3,\n",
       " 'V': 0.0,\n",
       " 'VI': 0.0}"
      ]
     },
     "execution_count": null,
     "metadata": {},
     "output_type": "execute_result"
    }
   ],
   "source": [
    "oer = dict(bus.loc[:,['ID_ST','OER']].values)\n",
    "oer"
   ]
  },
  {
   "cell_type": "code",
   "execution_count": null,
   "metadata": {},
   "outputs": [
    {
     "data": {
      "text/html": [
       "<div>\n",
       "<style scoped>\n",
       "    .dataframe tbody tr th:only-of-type {\n",
       "        vertical-align: middle;\n",
       "    }\n",
       "\n",
       "    .dataframe tbody tr th {\n",
       "        vertical-align: top;\n",
       "    }\n",
       "\n",
       "    .dataframe thead th {\n",
       "        text-align: right;\n",
       "    }\n",
       "</style>\n",
       "<table border=\"1\" class=\"dataframe\">\n",
       "  <thead>\n",
       "    <tr style=\"text-align: right;\">\n",
       "      <th></th>\n",
       "      <th>GENERATION</th>\n",
       "      <th>I_net</th>\n",
       "      <th>III_net</th>\n",
       "      <th>IV_net</th>\n",
       "      <th>V_net</th>\n",
       "      <th>VI_net</th>\n",
       "      <th>I_gross</th>\n",
       "      <th>III_gross</th>\n",
       "      <th>IV_gross</th>\n",
       "      <th>V_gross</th>\n",
       "      <th>VI_gross</th>\n",
       "      <th>oer</th>\n",
       "    </tr>\n",
       "  </thead>\n",
       "  <tbody>\n",
       "    <tr>\n",
       "      <th>0</th>\n",
       "      <td>I_HYDRO</td>\n",
       "      <td>5.038884</td>\n",
       "      <td>1.063555</td>\n",
       "      <td>1.047583</td>\n",
       "      <td>1.688884</td>\n",
       "      <td>2.017553</td>\n",
       "      <td>5.441994</td>\n",
       "      <td>1.339773</td>\n",
       "      <td>1.346030</td>\n",
       "      <td>2.320499</td>\n",
       "      <td>2.636194</td>\n",
       "      <td>0.0</td>\n",
       "    </tr>\n",
       "    <tr>\n",
       "      <th>2</th>\n",
       "      <td>I_GEO</td>\n",
       "      <td>4.961116</td>\n",
       "      <td>1.047141</td>\n",
       "      <td>1.031415</td>\n",
       "      <td>1.662818</td>\n",
       "      <td>1.986415</td>\n",
       "      <td>5.358006</td>\n",
       "      <td>1.319095</td>\n",
       "      <td>1.325256</td>\n",
       "      <td>2.284686</td>\n",
       "      <td>2.595508</td>\n",
       "      <td>0.1</td>\n",
       "    </tr>\n",
       "    <tr>\n",
       "      <th>3</th>\n",
       "      <td>II</td>\n",
       "      <td>0.000000</td>\n",
       "      <td>7.889305</td>\n",
       "      <td>7.770825</td>\n",
       "      <td>12.527909</td>\n",
       "      <td>14.965934</td>\n",
       "      <td>0.000000</td>\n",
       "      <td>8.520449</td>\n",
       "      <td>8.560244</td>\n",
       "      <td>14.757500</td>\n",
       "      <td>16.765199</td>\n",
       "      <td>1.0</td>\n",
       "    </tr>\n",
       "    <tr>\n",
       "      <th>5</th>\n",
       "      <td>IV</td>\n",
       "      <td>0.000000</td>\n",
       "      <td>0.000000</td>\n",
       "      <td>5.150178</td>\n",
       "      <td>4.120389</td>\n",
       "      <td>1.030097</td>\n",
       "      <td>0.000000</td>\n",
       "      <td>0.000000</td>\n",
       "      <td>5.150178</td>\n",
       "      <td>4.450020</td>\n",
       "      <td>1.201505</td>\n",
       "      <td>0.3</td>\n",
       "    </tr>\n",
       "  </tbody>\n",
       "</table>\n",
       "</div>"
      ],
      "text/plain": [
       "  GENERATION     I_net   III_net    IV_net      V_net     VI_net   I_gross  \\\n",
       "0    I_HYDRO  5.038884  1.063555  1.047583   1.688884   2.017553  5.441994   \n",
       "2      I_GEO  4.961116  1.047141  1.031415   1.662818   1.986415  5.358006   \n",
       "3         II  0.000000  7.889305  7.770825  12.527909  14.965934  0.000000   \n",
       "5         IV  0.000000  0.000000  5.150178   4.120389   1.030097  0.000000   \n",
       "\n",
       "   III_gross  IV_gross    V_gross   VI_gross  oer  \n",
       "0   1.339773  1.346030   2.320499   2.636194  0.0  \n",
       "2   1.319095  1.325256   2.284686   2.595508  0.1  \n",
       "3   8.520449  8.560244  14.757500  16.765199  1.0  \n",
       "5   0.000000  5.150178   4.450020   1.201505  0.3  "
      ]
     },
     "execution_count": null,
     "metadata": {},
     "output_type": "execute_result"
    }
   ],
   "source": [
    "df.assign(oer = df.GENERATION.map(oer))"
   ]
  },
  {
   "cell_type": "code",
   "execution_count": null,
   "metadata": {},
   "outputs": [
    {
     "name": "stderr",
     "output_type": "stream",
     "text": [
      "/tmp/ipykernel_6987/1678395552.py:1: FutureWarning: Dropping of nuisance columns in DataFrame reductions (with 'numeric_only=None') is deprecated; in a future version this will raise TypeError.  Select only valid columns before calling the reduction.\n",
      "  df = trace.df.loc[trace.df.sum(axis=1)!=0,trace.df.sum(axis=0)!=0]\n"
     ]
    }
   ],
   "source": [
    "df = trace.df.loc[trace.df.sum(axis=1)!=0,trace.df.sum(axis=0)!=0]\n",
    "df = df.merge(bus.loc[:,['ID_ST','OER']], how='left', left_on='GENERATION', right_on='ID_ST').drop('ID_ST', axis=1)"
   ]
  }
 ],
 "metadata": {
  "kernelspec": {
   "display_name": "Python 3.10.4 64-bit",
   "language": "python",
   "name": "python3"
  }
 },
 "nbformat": 4,
 "nbformat_minor": 4
}
